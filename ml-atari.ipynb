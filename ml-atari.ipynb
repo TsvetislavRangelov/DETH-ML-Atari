{
 "cells": [
  {
   "cell_type": "markdown",
   "metadata": {},
   "source": [
    "Decision Theory - Atari Boxing"
   ]
  },
  {
   "cell_type": "markdown",
   "metadata": {},
   "source": [
    "#### Requirements\n",
    "- model-based RL and model-free RL aspects must be included in the research \n",
    "- one of the models is already trained !!!!\n",
    "- Implementation of an Atari Boxing environment with preprocessing pipelines (e.g.,\n",
    "converting pixel data to grayscale and resizing for efficient training).\n",
    "- One agent using a reinforcement learning algorithm, such as Proximal Policy\n",
    "Optimization (PPO) or Deep Q-Learning (DQN).\n",
    "- Analysis of reward progression and training curves.\n",
    "- Evaluation results of agent performance against each other and baseline strategies.\n",
    "- Documentation outlining methodology, challenges, and findings from the research.\n",
    "- (Calculating Optimal Actions using Utility Theory OR Calculating an Optimal Policy for a Markovian Decision process) AND (one of the RL strategies covered in chapter 23 of [AIMA]).\n",
    "- You show that you can compare and reason about alternative solution methods. \n",
    "- feedback! "
   ]
  },
  {
   "cell_type": "code",
   "execution_count": null,
   "metadata": {},
   "outputs": [
    {
     "name": "stderr",
     "output_type": "stream",
     "text": [
      "A.L.E: Arcade Learning Environment (version 0.10.1+unknown)\n",
      "[Powered by Stella]\n"
     ]
    },
    {
     "ename": "",
     "evalue": "",
     "output_type": "error",
     "traceback": [
      "\u001b[1;31mThe Kernel crashed while executing code in the current cell or a previous cell. \n",
      "\u001b[1;31mPlease review the code in the cell(s) to identify a possible cause of the failure. \n",
      "\u001b[1;31mClick <a href='https://aka.ms/vscodeJupyterKernelCrash'>here</a> for more info. \n",
      "\u001b[1;31mView Jupyter <a href='command:jupyter.viewOutput'>log</a> for further details."
     ]
    }
   ],
   "source": [
    "import gymnasium as gym\n",
    "import numpy as np\n",
    "import supersuit\n",
    "\n",
    "import ale_py\n",
    "\n",
    "gym.register_envs(ale_py) \n",
    "\n",
    "env = gym.make('ALE/Boxing-v5', render_mode=\"human\")\n",
    "env = supersuit.sticky_actions_v0(env, repeat_action_probability=0.25)\n",
    "\n",
    "obs, info = env.reset()\n",
    "episode_over = False\n",
    "while not episode_over:\n",
    "    action = env.action_space.sample()\n",
    "    obs, reward, terminated, truncated, info = env.step(action)\n",
    "    episode_over = terminated or truncated\n",
    "env.close()"
   ]
  }
 ],
 "metadata": {
  "kernelspec": {
   "display_name": "deth",
   "language": "python",
   "name": "deth"
  },
  "language_info": {
   "codemirror_mode": {
    "name": "ipython",
    "version": 3
   },
   "file_extension": ".py",
   "mimetype": "text/x-python",
   "name": "python",
   "nbconvert_exporter": "python",
   "pygments_lexer": "ipython3",
   "version": "3.12.3"
  }
 },
 "nbformat": 4,
 "nbformat_minor": 2
}
